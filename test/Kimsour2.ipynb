{
  "nbformat": 4,
  "nbformat_minor": 0,
  "metadata": {
    "colab": {
      "name": "Kimsour2.ipynb",
      "provenance": [],
      "authorship_tag": "ABX9TyNKgk3jQg4RSXWeIBeKzM3l",
      "include_colab_link": true
    },
    "kernelspec": {
      "name": "python3",
      "display_name": "Python 3"
    },
    "language_info": {
      "name": "python"
    }
  },
  "cells": [
    {
      "cell_type": "markdown",
      "metadata": {
        "id": "view-in-github",
        "colab_type": "text"
      },
      "source": [
        "<a href=\"https://colab.research.google.com/github/Kimsour-Rith/MachineLearning/blob/main/test/Kimsour2.ipynb\" target=\"_parent\"><img src=\"https://colab.research.google.com/assets/colab-badge.svg\" alt=\"Open In Colab\"/></a>"
      ]
    },
    {
      "cell_type": "code",
      "execution_count": 1,
      "metadata": {
        "id": "4d53zKZMN4OM",
        "outputId": "a5c60d5d-3e76-4d72-f225-ce0e4aedaf70",
        "colab": {
          "base_uri": "https://localhost:8080/"
        }
      },
      "outputs": [
        {
          "output_type": "stream",
          "name": "stdout",
          "text": [
            "Good Morning Sir\n"
          ]
        }
      ],
      "source": [
        "print('Good Morning Sir')"
      ]
    }
  ]
}