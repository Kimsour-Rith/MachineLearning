{
  "nbformat": 4,
  "nbformat_minor": 0,
  "metadata": {
    "colab": {
      "name": "Kimsour1.ipynb",
      "provenance": [],
      "authorship_tag": "ABX9TyPvowigkKZNelU/15Ilgj/8",
      "include_colab_link": true
    },
    "kernelspec": {
      "name": "python3",
      "display_name": "Python 3"
    },
    "language_info": {
      "name": "python"
    }
  },
  "cells": [
    {
      "cell_type": "markdown",
      "metadata": {
        "id": "view-in-github",
        "colab_type": "text"
      },
      "source": [
        "<a href=\"https://colab.research.google.com/github/Kimsour-Rith/MachineLearning/blob/main/test/Kimsour1.ipynb\" target=\"_parent\"><img src=\"https://colab.research.google.com/assets/colab-badge.svg\" alt=\"Open In Colab\"/></a>"
      ]
    },
    {
      "cell_type": "code",
      "execution_count": 1,
      "metadata": {
        "colab": {
          "base_uri": "https://localhost:8080/"
        },
        "id": "VLl3MNwLM-RY",
        "outputId": "774ece26-d2fc-4520-835a-6b7711fcd32f"
      },
      "outputs": [
        {
          "output_type": "stream",
          "name": "stdout",
          "text": [
            "Hello Kimsour\n",
            "Hello Seanghor\n"
          ]
        }
      ],
      "source": [
        "print('Hello Kimsour')\n",
        "print('Hello Seanghor')"
      ]
    }
  ]
}