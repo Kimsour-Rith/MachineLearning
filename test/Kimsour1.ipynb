{
  "nbformat": 4,
  "nbformat_minor": 0,
  "metadata": {
    "colab": {
      "name": "Kimsour1.ipynb",
      "provenance": [],
      "authorship_tag": "ABX9TyPfKMPQ3NfHcprKLg42W7G+",
      "include_colab_link": true
    },
    "kernelspec": {
      "name": "python3",
      "display_name": "Python 3"
    },
    "language_info": {
      "name": "python"
    }
  },
  "cells": [
    {
      "cell_type": "markdown",
      "metadata": {
        "id": "view-in-github",
        "colab_type": "text"
      },
      "source": [
        "<a href=\"https://colab.research.google.com/github/Kimsour-Rith/MachineLearning/blob/main/test/Kimsour1.ipynb\" target=\"_parent\"><img src=\"https://colab.research.google.com/assets/colab-badge.svg\" alt=\"Open In Colab\"/></a>"
      ]
    },
    {
      "cell_type": "code",
      "execution_count": 1,
      "metadata": {
        "colab": {
          "base_uri": "https://localhost:8080/"
        },
        "id": "VLl3MNwLM-RY",
        "outputId": "31cfd0b4-e14f-4f5d-cfbe-3f65d6a77865"
      },
      "outputs": [
        {
          "output_type": "stream",
          "name": "stdout",
          "text": [
            "Hello Kimsour\n"
          ]
        }
      ],
      "source": [
        "print('Hello Kimsour')"
      ]
    }
  ]
}